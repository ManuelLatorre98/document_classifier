{
 "cells": [
  {
   "cell_type": "code",
   "execution_count": 7,
   "metadata": {},
   "outputs": [
    {
     "name": "stdout",
     "output_type": "stream",
     "text": [
      "Reading package lists... Done\n",
      "Building dependency tree... Done\n",
      "Reading state information... Done\n",
      "python3-tk is already the newest version (3.11.2-3).\n",
      "The following packages were automatically installed and are no longer required:\n",
      "  gconf-service gconf2-common libc++1 libc++1-14 libc++abi1-14\n",
      "  libdbus-glib-1-2 libgconf-2-4 libu2f-udev libunwind-14\n",
      "  linux-headers-6.1.0-18-amd64 linux-headers-6.1.0-18-common\n",
      "  linux-image-6.1.0-10-amd64 linux-image-6.1.0-11-amd64\n",
      "  linux-image-6.1.0-18-amd64 linux-image-6.1.0-21-amd64\n",
      "  linux-image-6.1.0-9-amd64\n",
      "Use 'sudo apt autoremove' to remove them.\n",
      "0 upgraded, 0 newly installed, 0 to remove and 0 not upgraded.\n",
      "Collecting customtkinter\n",
      "  Downloading customtkinter-5.2.2-py3-none-any.whl (296 kB)\n",
      "\u001b[2K     \u001b[38;2;114;156;31m━━━━━━━━━━━━━━━━━━━━━━━━━━━━━━━━━━━━━━━\u001b[0m \u001b[32m296.1/296.1 kB\u001b[0m \u001b[31m2.8 MB/s\u001b[0m eta \u001b[36m0:00:00\u001b[0m[31m2.0 MB/s\u001b[0m eta \u001b[36m0:00:01\u001b[0m\n",
      "\u001b[?25hCollecting darkdetect\n",
      "  Downloading darkdetect-0.8.0-py3-none-any.whl (9.0 kB)\n",
      "Requirement already satisfied: packaging in ./venv/lib/python3.11/site-packages (from customtkinter) (24.2)\n",
      "Installing collected packages: darkdetect, customtkinter\n",
      "Successfully installed customtkinter-5.2.2 darkdetect-0.8.0\n",
      "Note: you may need to restart the kernel to use updated packages.\n"
     ]
    }
   ],
   "source": [
    "!sudo apt-get install -y python3-tk\n",
    "%pip install customtkinter"
   ]
  },
  {
   "cell_type": "code",
   "execution_count": 1,
   "metadata": {},
   "outputs": [],
   "source": [
    "import customtkinter\n",
    "from tkinter import filedialog"
   ]
  },
  {
   "cell_type": "code",
   "execution_count": null,
   "metadata": {},
   "outputs": [
    {
     "ename": "SyntaxError",
     "evalue": "invalid syntax. Perhaps you forgot a comma? (2118804486.py, line 14)",
     "output_type": "error",
     "traceback": [
      "\u001b[0;36m  Cell \u001b[0;32mIn[17], line 14\u001b[0;36m\u001b[0m\n\u001b[0;31m    print(\"Documentos seleccionados: \"file_paths_list)\u001b[0m\n\u001b[0m          ^\u001b[0m\n\u001b[0;31mSyntaxError\u001b[0m\u001b[0;31m:\u001b[0m invalid syntax. Perhaps you forgot a comma?\n"
     ]
    }
   ],
   "source": [
    "#######################\n",
    "## BUTTONS CALLBACKS ##\n",
    "#######################\n",
    "\n",
    "def load_files(title, multi_files=True):\n",
    "    if multi_files:\n",
    "      file_path = filedialog.askopenfilenames(title=title) \n",
    "      file_paths_list = list(file_path)\n",
    "    else:\n",
    "      file_path = filedialog.askopenfilename(title=title)\n",
    "      print(file_path)\n",
    "      file_paths_list = [file_path]\n",
    "      \n",
    "    print(\"Documentos seleccionados: \",file_paths_list)\n",
    "    return file_paths_list"
   ]
  },
  {
   "cell_type": "code",
   "execution_count": null,
   "metadata": {},
   "outputs": [],
   "source": [
    "\n",
    "\n",
    "app = customtkinter.CTk()\n",
    "app.title(\"Document recognizer\")\n",
    "app.geometry(\"500x500\")\n",
    "button_input_pdf = customtkinter.CTkButton(app, text=\"Cargar PDFs\", command=lambda:load_files(\"Cargar PDF\", multi_files=False))\n",
    "button_input_pdf .grid(row=0, column=0, padx=20, pady=20 )\n",
    "\n",
    "button_input_keywords = customtkinter.CTkButton(app, text=\"Cargar PDFs\", command=lambda:load_files(\"Cargar PDF\", multi_files=False))\n",
    "button_input_keywords.grid(row=0, column=50, padx=20, pady=20 )\n",
    "\n",
    "app.mainloop()"
   ]
  }
 ],
 "metadata": {
  "kernelspec": {
   "display_name": "venv",
   "language": "python",
   "name": "python3"
  },
  "language_info": {
   "codemirror_mode": {
    "name": "ipython",
    "version": 3
   },
   "file_extension": ".py",
   "mimetype": "text/x-python",
   "name": "python",
   "nbconvert_exporter": "python",
   "pygments_lexer": "ipython3",
   "version": "3.11.2"
  }
 },
 "nbformat": 4,
 "nbformat_minor": 2
}
